{
 "cells": [
  {
   "cell_type": "code",
   "execution_count": 1,
   "id": "848ea51e-32cb-426c-a9da-7471af67a444",
   "metadata": {},
   "outputs": [],
   "source": [
    "# Patterns"
   ]
  },
  {
   "cell_type": "code",
   "execution_count": 7,
   "id": "b468bcba-4d35-448b-b360-597391c8b50f",
   "metadata": {},
   "outputs": [
    {
     "name": "stdout",
     "output_type": "stream",
     "text": [
      "* * * * * \n",
      "* * * * * \n",
      "* * * * * \n",
      "* * * * * \n",
      "* * * * * \n"
     ]
    }
   ],
   "source": [
    "for i in range(5):\n",
    "    for j in range(5):\n",
    "        print(\"*\",end=\" \")\n",
    "    print()    "
   ]
  },
  {
   "cell_type": "code",
   "execution_count": 15,
   "id": "d54372c2-a8a6-46e2-8526-dab93bb98489",
   "metadata": {},
   "outputs": [
    {
     "name": "stdout",
     "output_type": "stream",
     "text": [
      "* * * * * \n",
      "* * * * \n",
      "* * * \n",
      "* * \n",
      "* \n"
     ]
    }
   ],
   "source": [
    "for i in range(5):\n",
    "    for j in range(5-i):\n",
    "        print(\"*\",end=\" \")\n",
    "    print()    "
   ]
  },
  {
   "cell_type": "code",
   "execution_count": 47,
   "id": "97380448-2011-4bd5-815c-8b469baeed86",
   "metadata": {},
   "outputs": [
    {
     "name": "stdout",
     "output_type": "stream",
     "text": [
      "\n",
      "* \n",
      "* * \n",
      "* * * \n",
      "* * * * \n",
      "* * * * * \n"
     ]
    }
   ],
   "source": [
    "for i in range(6):\n",
    "    for j in range(i):\n",
    "        print(\"*\",end=\" \")\n",
    "    print()    "
   ]
  },
  {
   "cell_type": "code",
   "execution_count": 58,
   "id": "c5cd059a-cc64-435b-b1fd-b35a40276211",
   "metadata": {},
   "outputs": [
    {
     "name": "stdout",
     "output_type": "stream",
     "text": [
      "     \n",
      "    *\n",
      "   **\n",
      "  ***\n",
      " ****\n",
      "\n"
     ]
    }
   ],
   "source": [
    "for i in range(5):\n",
    "    print(\" \"*(5-i),end=\"\")\n",
    "    print(\"*\"*i) \n",
    "print()    "
   ]
  },
  {
   "cell_type": "code",
   "execution_count": 71,
   "id": "ca39a146-4894-4b1c-9681-14dfa316a00e",
   "metadata": {},
   "outputs": [
    {
     "name": "stdout",
     "output_type": "stream",
     "text": [
      "\n",
      "*\n",
      "**\n",
      "***\n",
      "****\n"
     ]
    }
   ],
   "source": [
    "for i in range(5):\n",
    "    print(i*\"*\")\n"
   ]
  },
  {
   "cell_type": "code",
   "execution_count": 89,
   "id": "438bd321-b158-4692-93a5-45335a313688",
   "metadata": {},
   "outputs": [
    {
     "name": "stdout",
     "output_type": "stream",
     "text": [
      "      *\n",
      "     ***\n",
      "    *****\n",
      "   *******\n",
      "  *********\n"
     ]
    }
   ],
   "source": [
    "for i in range(5):\n",
    "    print(\" \"*(5-i),\"*\"*(2*i+1))    "
   ]
  },
  {
   "cell_type": "code",
   "execution_count": 75,
   "id": "e3ae19d7-02bf-4160-957f-d9047e6cc3c9",
   "metadata": {},
   "outputs": [
    {
     "name": "stdout",
     "output_type": "stream",
     "text": [
      "      \n",
      "     *\n",
      "    **\n",
      "   ***\n",
      "  ****\n",
      "\n"
     ]
    }
   ],
   "source": [
    "for i in range(5):\n",
    "    print(\" \"*(5-i),\"*\"*i) \n",
    "print()    "
   ]
  },
  {
   "cell_type": "code",
   "execution_count": 105,
   "id": "5ce2645d-7d06-4112-a079-240ba9feaf45",
   "metadata": {},
   "outputs": [
    {
     "name": "stdout",
     "output_type": "stream",
     "text": [
      " *********\n",
      "  *******\n",
      "   *****\n",
      "    ***\n",
      "     *\n"
     ]
    }
   ],
   "source": [
    "for i in range(5):\n",
    "    print(\" \"*i,\"*\"*(2*(5-i)-1))    "
   ]
  },
  {
   "cell_type": "code",
   "execution_count": 117,
   "id": "33c75628-fc06-4b9b-862c-79858bb3e00a",
   "metadata": {},
   "outputs": [
    {
     "name": "stdout",
     "output_type": "stream",
     "text": [
      "\n",
      "*\n",
      "**\n",
      "***\n",
      "****\n",
      "*****\n",
      "****\n",
      "***\n",
      "**\n",
      "*\n"
     ]
    }
   ],
   "source": [
    "for i in range(5):\n",
    "    print(\"*\"*i)\n",
    "for i in range(5):\n",
    "    print(\"*\"*(5-i))\n",
    "    "
   ]
  },
  {
   "cell_type": "code",
   "execution_count": 119,
   "id": "c12b18f6-89f8-4756-9881-df6a85f54e79",
   "metadata": {},
   "outputs": [],
   "source": [
    "#while"
   ]
  },
  {
   "cell_type": "code",
   "execution_count": 193,
   "id": "7b90b82e-ada9-4f50-b3b4-2568c658aa73",
   "metadata": {},
   "outputs": [
    {
     "name": "stdout",
     "output_type": "stream",
     "text": [
      "0\n",
      "1\n"
     ]
    }
   ],
   "source": [
    "def cal():\n",
    "    count=0\n",
    "    while count<=10:\n",
    "        yield count\n",
    "        count+=1\n",
    "cal1=cal()        \n",
    "print(next(cal1) )\n",
    "print(next(cal1))"
   ]
  },
  {
   "cell_type": "code",
   "execution_count": 169,
   "id": "9c92a692-db7a-491d-b0ed-b63eab0b4d98",
   "metadata": {},
   "outputs": [
    {
     "name": "stdout",
     "output_type": "stream",
     "text": [
      "0\n",
      "1\n",
      "2\n",
      "3\n",
      "4\n",
      "5\n",
      "6\n",
      "7\n",
      "8\n",
      "9\n",
      "10\n"
     ]
    }
   ],
   "source": [
    "for i in cal(0):\n",
    "    print(i)"
   ]
  },
  {
   "cell_type": "code",
   "execution_count": 199,
   "id": "1c6e8b51-2731-4ccc-ac67-5560554dcc5c",
   "metadata": {},
   "outputs": [
    {
     "data": {
      "text/plain": [
       "2"
      ]
     },
     "execution_count": 199,
     "metadata": {},
     "output_type": "execute_result"
    }
   ],
   "source": [
    "next(cal1)"
   ]
  },
  {
   "cell_type": "code",
   "execution_count": 203,
   "id": "d6fc5acf-400e-4850-b4d1-4e479049eb8e",
   "metadata": {},
   "outputs": [
    {
     "data": {
      "text/plain": [
       "4"
      ]
     },
     "execution_count": 203,
     "metadata": {},
     "output_type": "execute_result"
    }
   ],
   "source": [
    "next(cal1)\n",
    "next(cal1)"
   ]
  },
  {
   "cell_type": "code",
   "execution_count": 205,
   "id": "972491d1-193a-4f97-a248-24ea97d01be3",
   "metadata": {},
   "outputs": [],
   "source": [
    "#checking prime"
   ]
  },
  {
   "cell_type": "code",
   "execution_count": 237,
   "id": "5a43a71a-0be5-4019-8656-b7c9950e6b88",
   "metadata": {},
   "outputs": [],
   "source": [
    "def ck_prime(n):\n",
    "    if n <= 1:\n",
    "        return \"not prime bro\"\n",
    "    for i in range(2, n):\n",
    "        if n % i == 0:\n",
    "            return \"not prime bro\"\n",
    "    else:\n",
    "        return \"its a prime\""
   ]
  },
  {
   "cell_type": "code",
   "execution_count": 241,
   "id": "fe663223-697a-4762-bd7b-36831618b97d",
   "metadata": {},
   "outputs": [
    {
     "data": {
      "text/plain": [
       "'not prime bro'"
      ]
     },
     "execution_count": 241,
     "metadata": {},
     "output_type": "execute_result"
    }
   ],
   "source": [
    "ck_prime(4)"
   ]
  },
  {
   "cell_type": "code",
   "execution_count": 247,
   "id": "85ca9bb8-92b9-4997-9a03-05d2e8ed4bb6",
   "metadata": {},
   "outputs": [
    {
     "name": "stdout",
     "output_type": "stream",
     "text": [
      "Bob not found.\n"
     ]
    }
   ],
   "source": [
    "names = [\"Jon\", \"Jane\", \"Alice\"]\n",
    "\n",
    "for name in names:\n",
    "    if name == \"Bob\":\n",
    "        print(\"Found Bob!\")\n",
    "        break\n",
    "else:\n",
    "    print(\"Bob not found.\")"
   ]
  },
  {
   "cell_type": "code",
   "execution_count": 249,
   "id": "0b0f30ff-b28a-4bea-8114-3e063e4072e5",
   "metadata": {},
   "outputs": [
    {
     "name": "stdin",
     "output_type": "stream",
     "text": [
      "Enter password:  11231esq\n"
     ]
    },
    {
     "name": "stdout",
     "output_type": "stream",
     "text": [
      "Wrong password!\n"
     ]
    },
    {
     "name": "stdin",
     "output_type": "stream",
     "text": [
      "Enter password:  23eq\n"
     ]
    },
    {
     "name": "stdout",
     "output_type": "stream",
     "text": [
      "Wrong password!\n"
     ]
    },
    {
     "name": "stdin",
     "output_type": "stream",
     "text": [
      "Enter password:  21w\n"
     ]
    },
    {
     "name": "stdout",
     "output_type": "stream",
     "text": [
      "Wrong password!\n",
      "Too many failed attempts. Try later.\n"
     ]
    }
   ],
   "source": [
    "attempts = 0\n",
    "while attempts < 3:\n",
    "    password = input(\"Enter password: \")\n",
    "    if password == \"admin123\":\n",
    "        print(\"Access granted!\")\n",
    "        break\n",
    "    else:\n",
    "        print(\"Wrong password!\")\n",
    "    attempts += 1\n",
    "else:\n",
    "    print(\"Too many failed attempts. Try later.\")"
   ]
  },
  {
   "cell_type": "code",
   "execution_count": null,
   "id": "87d98238-cfaf-4fd7-a61a-4c328f91da08",
   "metadata": {},
   "outputs": [],
   "source": []
  }
 ],
 "metadata": {
  "kernelspec": {
   "display_name": "Python 3 (ipykernel)",
   "language": "python",
   "name": "python3"
  },
  "language_info": {
   "codemirror_mode": {
    "name": "ipython",
    "version": 3
   },
   "file_extension": ".py",
   "mimetype": "text/x-python",
   "name": "python",
   "nbconvert_exporter": "python",
   "pygments_lexer": "ipython3",
   "version": "3.12.4"
  }
 },
 "nbformat": 4,
 "nbformat_minor": 5
}

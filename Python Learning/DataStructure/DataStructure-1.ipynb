{
 "cells": [
  {
   "cell_type": "markdown",
   "id": "8f7b1596-1bb0-4340-add1-d32536938bc4",
   "metadata": {},
   "source": [
    "# LIST"
   ]
  },
  {
   "cell_type": "code",
   "execution_count": 2,
   "id": "caea0112-2be3-43df-8858-9662c1a18978",
   "metadata": {},
   "outputs": [],
   "source": [
    "### List add"
   ]
  },
  {
   "cell_type": "code",
   "execution_count": 15,
   "id": "646c1d18-7a5f-4532-ac0a-1a615bf9d5a1",
   "metadata": {},
   "outputs": [
    {
     "name": "stdout",
     "output_type": "stream",
     "text": [
      "[1, 2, 3, 6, 7, 8]\n"
     ]
    }
   ],
   "source": [
    "l1=[1,2,3]\n",
    "l2=[6,7,8]\n",
    "l=l1.__add__(l2)\n",
    "print(l)"
   ]
  },
  {
   "cell_type": "code",
   "execution_count": 19,
   "id": "b9e62c6a-5523-4962-9a61-ad2681fe2d26",
   "metadata": {},
   "outputs": [],
   "source": [
    "### insert element\n"
   ]
  },
  {
   "cell_type": "code",
   "execution_count": 21,
   "id": "30b50dc7-c506-4812-b842-ff8f31cd5de2",
   "metadata": {},
   "outputs": [
    {
     "data": {
      "text/plain": [
       "[1, 2, 3, 4]"
      ]
     },
     "execution_count": 21,
     "metadata": {},
     "output_type": "execute_result"
    }
   ],
   "source": [
    "l1=[1,2,4]\n",
    "l1.insert(2,3)\n",
    "l1"
   ]
  },
  {
   "cell_type": "code",
   "execution_count": 23,
   "id": "8fe506aa-1ea4-4af4-bd9e-d5ccb5184019",
   "metadata": {},
   "outputs": [],
   "source": [
    "### Remove element"
   ]
  },
  {
   "cell_type": "code",
   "execution_count": 27,
   "id": "56a66398-c791-45b3-a546-d7002aa11feb",
   "metadata": {},
   "outputs": [
    {
     "data": {
      "text/plain": [
       "[2, 3]"
      ]
     },
     "execution_count": 27,
     "metadata": {},
     "output_type": "execute_result"
    }
   ],
   "source": [
    "l1=[1,2,3]\n",
    "l1.remove(1)\n",
    "l1"
   ]
  },
  {
   "cell_type": "code",
   "execution_count": 29,
   "id": "f26522d2-a0d4-433d-a088-6e2d341a9645",
   "metadata": {},
   "outputs": [],
   "source": [
    "### Remove/del at index"
   ]
  },
  {
   "cell_type": "code",
   "execution_count": 33,
   "id": "f8eff401-81c8-4f5b-a322-1fcf4e8cf644",
   "metadata": {},
   "outputs": [
    {
     "data": {
      "text/plain": [
       "[1, 3]"
      ]
     },
     "execution_count": 33,
     "metadata": {},
     "output_type": "execute_result"
    }
   ],
   "source": [
    "l1=[1,2,3]\n",
    "del l1[1]\n",
    "l1"
   ]
  },
  {
   "cell_type": "code",
   "execution_count": null,
   "id": "11868498-d9fe-40aa-9d52-6de379d41ad3",
   "metadata": {},
   "outputs": [],
   "source": [
    "### sort by length "
   ]
  },
  {
   "cell_type": "code",
   "execution_count": 81,
   "id": "77e08f8e-d08d-415a-8129-508a1f67a50f",
   "metadata": {},
   "outputs": [
    {
     "data": {
      "text/plain": [
       "['cat', 'ball', 'apple']"
      ]
     },
     "execution_count": 81,
     "metadata": {},
     "output_type": "execute_result"
    }
   ],
   "source": [
    "l=[\"apple\",\"ball\",\"cat\"]\n",
    "l.sort(key=len)\n",
    "l"
   ]
  },
  {
   "cell_type": "code",
   "execution_count": 85,
   "id": "d41d9b29-c9dd-46e6-8b4a-b3a4d39860ed",
   "metadata": {},
   "outputs": [],
   "source": [
    "### sort based of first char"
   ]
  },
  {
   "cell_type": "code",
   "execution_count": 99,
   "id": "42473d94-cd3e-40fc-b537-02b4c3f1eb18",
   "metadata": {},
   "outputs": [],
   "source": [
    "l1=l.sort(key=lambda x:x[0])\n",
    "l1\n"
   ]
  },
  {
   "cell_type": "code",
   "execution_count": 210,
   "id": "14a4da4a-6588-4dce-9d55-9402077925c3",
   "metadata": {},
   "outputs": [],
   "source": [
    "## Slicicng"
   ]
  },
  {
   "cell_type": "code",
   "execution_count": 216,
   "id": "b7a200db-59e6-4aad-9017-fa9d0a47c12b",
   "metadata": {},
   "outputs": [
    {
     "data": {
      "text/plain": [
       "['ball', 'cat']"
      ]
     },
     "execution_count": 216,
     "metadata": {},
     "output_type": "execute_result"
    }
   ],
   "source": [
    "l[1:3]"
   ]
  },
  {
   "cell_type": "code",
   "execution_count": 218,
   "id": "fc7a1524-f8c3-4a15-9490-b93b70996717",
   "metadata": {},
   "outputs": [
    {
     "data": {
      "text/plain": [
       "['apple', 'ball']"
      ]
     },
     "execution_count": 218,
     "metadata": {},
     "output_type": "execute_result"
    }
   ],
   "source": [
    "l[:2]"
   ]
  },
  {
   "cell_type": "code",
   "execution_count": 220,
   "id": "b0111870-3f94-4344-b18a-22cba287518d",
   "metadata": {},
   "outputs": [
    {
     "data": {
      "text/plain": [
       "['apple', 'cat']"
      ]
     },
     "execution_count": 220,
     "metadata": {},
     "output_type": "execute_result"
    }
   ],
   "source": [
    "l[::2]"
   ]
  },
  {
   "cell_type": "code",
   "execution_count": 224,
   "id": "7789b385-8d14-4365-acc0-2a03a83a5a1e",
   "metadata": {},
   "outputs": [
    {
     "data": {
      "text/plain": [
       "['cat', 'ball', 'apple']"
      ]
     },
     "execution_count": 224,
     "metadata": {},
     "output_type": "execute_result"
    }
   ],
   "source": [
    "l[::-1]"
   ]
  },
  {
   "cell_type": "markdown",
   "id": "28a1cc2e-3212-4a3d-a910-918e26ab4a50",
   "metadata": {},
   "source": [
    "### Crazy methods\n"
   ]
  },
  {
   "cell_type": "code",
   "execution_count": 37,
   "id": "a3dd1d54-2efd-4daf-8eee-4429d43a8dbc",
   "metadata": {},
   "outputs": [],
   "source": [
    "###checking list contains "
   ]
  },
  {
   "cell_type": "code",
   "execution_count": 39,
   "id": "e541d5bd-504a-4ca1-8a9e-9a9b317f986b",
   "metadata": {},
   "outputs": [
    {
     "data": {
      "text/plain": [
       "True"
      ]
     },
     "execution_count": 39,
     "metadata": {},
     "output_type": "execute_result"
    }
   ],
   "source": [
    "l=[1,2,3,4]\n",
    "l1=l.__contains__(1)\n",
    "l1\n"
   ]
  },
  {
   "cell_type": "code",
   "execution_count": 41,
   "id": "2cece4ae-47d3-4945-bf3b-64d1d97d4454",
   "metadata": {},
   "outputs": [],
   "source": [
    "### reverse List"
   ]
  },
  {
   "cell_type": "code",
   "execution_count": 53,
   "id": "7f068027-4bb4-458c-80df-c04d91d5beab",
   "metadata": {},
   "outputs": [
    {
     "data": {
      "text/plain": [
       "[5, 4, 3, 2, 1]"
      ]
     },
     "execution_count": 53,
     "metadata": {},
     "output_type": "execute_result"
    }
   ],
   "source": [
    "l=[1,2,3,4,5]\n",
    "l1=list(l.__reversed__())\n",
    "l1"
   ]
  },
  {
   "cell_type": "code",
   "execution_count": 55,
   "id": "d74b5186-07cc-4c87-a163-7022ec6fa4cf",
   "metadata": {},
   "outputs": [],
   "source": [
    "### adding values\n"
   ]
  },
  {
   "cell_type": "code",
   "execution_count": 61,
   "id": "f2d87593-095c-43b1-9d85-2737e0efd7b0",
   "metadata": {},
   "outputs": [
    {
     "data": {
      "text/plain": [
       "[1, 2, 3, 4, 0]"
      ]
     },
     "execution_count": 61,
     "metadata": {},
     "output_type": "execute_result"
    }
   ],
   "source": [
    "l=[1,2,3,4]\n",
    "l1=l.__iadd__([0])\n",
    "l1"
   ]
  },
  {
   "cell_type": "code",
   "execution_count": 69,
   "id": "eac9b46d-2479-4032-9618-dfa88f011f5d",
   "metadata": {},
   "outputs": [],
   "source": [
    "### get item by index\n"
   ]
  },
  {
   "cell_type": "code",
   "execution_count": 67,
   "id": "139b7feb-6a4a-417d-b7d3-b90745ce17c3",
   "metadata": {},
   "outputs": [
    {
     "data": {
      "text/plain": [
       "2"
      ]
     },
     "execution_count": 67,
     "metadata": {},
     "output_type": "execute_result"
    }
   ],
   "source": [
    "l=[1,2,3,4]\n",
    "l1=l.__getitem__(1)\n",
    "l1"
   ]
  },
  {
   "cell_type": "code",
   "execution_count": 101,
   "id": "518ca3a4-d92c-4453-940a-cb1902c03a95",
   "metadata": {},
   "outputs": [],
   "source": [
    "### ZIP with lists\n"
   ]
  },
  {
   "cell_type": "code",
   "execution_count": 340,
   "id": "a16d4797-3a5d-401d-b1ae-eaae11e2631e",
   "metadata": {},
   "outputs": [],
   "source": [
    "marks = [90, 85, 70]\n",
    "names = [\"jonny\", \"summy\", \"bobby\"]\n",
    "\n",
    "zipped_list = list(zip(names, marks))  \n",
    "print(zipped_list)"
   ]
  },
  {
   "cell_type": "code",
   "execution_count": 111,
   "id": "1dae8788-3be4-4471-b3ac-215d993c5f20",
   "metadata": {},
   "outputs": [],
   "source": []
  },
  {
   "cell_type": "code",
   "execution_count": 342,
   "id": "63958213-afe9-4347-a24d-2f1d38670305",
   "metadata": {},
   "outputs": [],
   "source": []
  },
  {
   "cell_type": "code",
   "execution_count": 121,
   "id": "f427e12a-66cc-4ed7-bba0-782fc9d54369",
   "metadata": {},
   "outputs": [],
   "source": []
  },
  {
   "cell_type": "code",
   "execution_count": 336,
   "id": "79eedf1d-c88f-485e-85a3-fb384aeb9e9b",
   "metadata": {},
   "outputs": [
    {
     "data": {
      "text/plain": [
       "['apple', 'ball', 'cat']"
      ]
     },
     "execution_count": 336,
     "metadata": {},
     "output_type": "execute_result"
    }
   ],
   "source": [
    "##comphrension\n",
    "lst=[i for i in l] \n",
    "lst"
   ]
  },
  {
   "cell_type": "code",
   "execution_count": null,
   "id": "4185f699-69f1-4f89-9397-04c19830b3c9",
   "metadata": {},
   "outputs": [],
   "source": [
    "lst="
   ]
  },
  {
   "cell_type": "code",
   "execution_count": 234,
   "id": "b2e55944-58fa-408b-b535-d554e6039c3c",
   "metadata": {},
   "outputs": [],
   "source": [
    "#poblem statements\n",
    "@1"
   ]
  },
  {
   "cell_type": "code",
   "execution_count": 238,
   "id": "d789b608-6866-4891-abd7-ded0134a4bd3",
   "metadata": {},
   "outputs": [],
   "source": [
    "nested_list = [[1, 2], [3, 4], [5, 6]] #to [1,2,3,4,5,6]"
   ]
  },
  {
   "cell_type": "code",
   "execution_count": 254,
   "id": "79480aaf-a7cf-423f-825a-1503c76d7103",
   "metadata": {},
   "outputs": [
    {
     "data": {
      "text/plain": [
       "[1, 2, 3, 4, 5, 6]"
      ]
     },
     "execution_count": 254,
     "metadata": {},
     "output_type": "execute_result"
    }
   ],
   "source": [
    "\n",
    "new=[j for i in nested_list for j in i]\n",
    "new"
   ]
  },
  {
   "cell_type": "code",
   "execution_count": 256,
   "id": "e9768a7f-55d1-49f0-a9d9-69e93fc1aed2",
   "metadata": {},
   "outputs": [],
   "source": [
    "#@2"
   ]
  },
  {
   "cell_type": "code",
   "execution_count": 258,
   "id": "0348133f-1e8b-4ad6-afc1-8246c92ebdec",
   "metadata": {},
   "outputs": [],
   "source": [
    "words = [\"madam\", \"hello\", \"racecar\", \"world\", \"level\"] #palindrome\n"
   ]
  },
  {
   "cell_type": "code",
   "execution_count": 262,
   "id": "d682b8df-dd23-4fe8-9339-7174a6e70218",
   "metadata": {},
   "outputs": [
    {
     "data": {
      "text/plain": [
       "['madam', 'racecar', 'level']"
      ]
     },
     "execution_count": 262,
     "metadata": {},
     "output_type": "execute_result"
    }
   ],
   "source": [
    "pallindrome_num=[i for i in words if i[::-1]==i]\n",
    "pallindrome_num"
   ]
  },
  {
   "cell_type": "code",
   "execution_count": null,
   "id": "fd48c477-6031-45b4-9838-0d2264872238",
   "metadata": {},
   "outputs": [],
   "source": []
  },
  {
   "cell_type": "code",
   "execution_count": null,
   "id": "fb1aff06-f841-4a0e-b34b-f5f8f73e5010",
   "metadata": {},
   "outputs": [],
   "source": []
  },
  {
   "cell_type": "code",
   "execution_count": null,
   "id": "c399cfe0-bb86-491e-a76a-0065eab852d6",
   "metadata": {},
   "outputs": [],
   "source": []
  },
  {
   "cell_type": "code",
   "execution_count": null,
   "id": "f7d88484-875c-4380-88f1-cc6f9df63725",
   "metadata": {},
   "outputs": [],
   "source": []
  },
  {
   "cell_type": "code",
   "execution_count": null,
   "id": "3f697542-75ab-4841-849a-20556ce86849",
   "metadata": {},
   "outputs": [],
   "source": []
  },
  {
   "cell_type": "code",
   "execution_count": null,
   "id": "e14157a7-659d-4bda-8665-31a3927bcd15",
   "metadata": {},
   "outputs": [],
   "source": []
  },
  {
   "cell_type": "markdown",
   "id": "c02dce67-3226-40f4-bc0e-30fec1d7f008",
   "metadata": {},
   "source": [
    "# TUPLES"
   ]
  },
  {
   "cell_type": "code",
   "execution_count": 154,
   "id": "a046c80b-47b6-4b05-85f4-30b976d9e3fe",
   "metadata": {},
   "outputs": [],
   "source": [
    "### count occurance of a char"
   ]
  },
  {
   "cell_type": "code",
   "execution_count": 158,
   "id": "0c001cf3-c9a3-4a3d-8fac-8972a67f70c1",
   "metadata": {},
   "outputs": [
    {
     "name": "stdout",
     "output_type": "stream",
     "text": [
      "2\n"
     ]
    }
   ],
   "source": [
    "t=(1,2,3,4,3)\n",
    "print(t.count(3))"
   ]
  },
  {
   "cell_type": "code",
   "execution_count": 160,
   "id": "805fa8d1-f701-4490-9c35-c77afa0aa0bd",
   "metadata": {},
   "outputs": [],
   "source": [
    "#append pop\n",
    "#A tuple is hashable only if all its elements are hashable.\n"
   ]
  },
  {
   "cell_type": "markdown",
   "id": "f149b253-af9e-486d-84b8-309f3df23eb8",
   "metadata": {},
   "source": [
    "# Set"
   ]
  },
  {
   "cell_type": "code",
   "execution_count": 168,
   "id": "6e17783c-193c-400e-b378-0f55363e7499",
   "metadata": {},
   "outputs": [
    {
     "data": {
      "text/plain": [
       "{0, 1, 2, 3, 4, 5, 6}"
      ]
     },
     "execution_count": 168,
     "metadata": {},
     "output_type": "execute_result"
    }
   ],
   "source": [
    "#add,pop.remove,update,clear\n",
    "s={1,2,3,4,5,6}\n",
    "s.add(0)\n",
    "s"
   ]
  },
  {
   "cell_type": "code",
   "execution_count": 184,
   "id": "c1e586f7-17d5-425d-8c84-4d62b959417b",
   "metadata": {},
   "outputs": [
    {
     "data": {
      "text/plain": [
       "{0, 1, 2, 3, 4, 5, 6, 10, 11}"
      ]
     },
     "execution_count": 184,
     "metadata": {},
     "output_type": "execute_result"
    }
   ],
   "source": [
    "s.update([11,10])\n",
    "s"
   ]
  },
  {
   "cell_type": "code",
   "execution_count": 186,
   "id": "341da7c5-3b00-45af-94e8-d7874d7a1227",
   "metadata": {},
   "outputs": [],
   "source": [
    "## operations"
   ]
  },
  {
   "cell_type": "code",
   "execution_count": 188,
   "id": "dd6991a9-49dd-44c4-b09e-d9d4b61f4d7d",
   "metadata": {},
   "outputs": [],
   "source": [
    "###union"
   ]
  },
  {
   "cell_type": "code",
   "execution_count": 200,
   "id": "b7fc28b6-d40a-42e4-ba14-41a6bfb209f0",
   "metadata": {},
   "outputs": [
    {
     "data": {
      "text/plain": [
       "{0, 1, 2, 3, 4, 7, 8}"
      ]
     },
     "execution_count": 200,
     "metadata": {},
     "output_type": "execute_result"
    }
   ],
   "source": [
    "s1={1,2,3,4}\n",
    "s2={7,8,0,2}\n",
    "s1.union(s2)"
   ]
  },
  {
   "cell_type": "code",
   "execution_count": 202,
   "id": "6855d138-ebfa-49a0-8609-5237adff196f",
   "metadata": {},
   "outputs": [
    {
     "data": {
      "text/plain": [
       "{2}"
      ]
     },
     "execution_count": 202,
     "metadata": {},
     "output_type": "execute_result"
    }
   ],
   "source": [
    "###intersection\n",
    "s1.intersection(s2)\n"
   ]
  },
  {
   "cell_type": "code",
   "execution_count": 206,
   "id": "163ea696-e92f-4407-8e61-f119cbac58db",
   "metadata": {},
   "outputs": [
    {
     "data": {
      "text/plain": [
       "{0, 7, 8}"
      ]
     },
     "execution_count": 206,
     "metadata": {},
     "output_type": "execute_result"
    }
   ],
   "source": [
    "###difference\n",
    "s2.difference(s1)"
   ]
  },
  {
   "cell_type": "code",
   "execution_count": 208,
   "id": "53151384-6753-4616-935a-cdbc17bdd984",
   "metadata": {},
   "outputs": [
    {
     "data": {
      "text/plain": [
       "{1, 3, 4}"
      ]
     },
     "execution_count": 208,
     "metadata": {},
     "output_type": "execute_result"
    }
   ],
   "source": [
    "###compare\n",
    "s1-s2"
   ]
  },
  {
   "cell_type": "markdown",
   "id": "2215499a-47c2-4148-a882-824736d16011",
   "metadata": {},
   "source": [
    "# dictionary"
   ]
  },
  {
   "cell_type": "code",
   "execution_count": 292,
   "id": "c563593a-d377-4fe7-8332-391440a540d4",
   "metadata": {},
   "outputs": [
    {
     "data": {
      "text/plain": [
       "dict_keys(['name', 'age', 'location'])"
      ]
     },
     "execution_count": 292,
     "metadata": {},
     "output_type": "execute_result"
    }
   ],
   "source": [
    "person = {'name': 'Alice', 'age': 25, 'location': 'NYC'}\n",
    "person.keys()"
   ]
  },
  {
   "cell_type": "code",
   "execution_count": 270,
   "id": "88775744-3bce-4d91-a974-c7d7824f874e",
   "metadata": {},
   "outputs": [
    {
     "data": {
      "text/plain": [
       "dict_values(['Alice', 25, 'NYC'])"
      ]
     },
     "execution_count": 270,
     "metadata": {},
     "output_type": "execute_result"
    }
   ],
   "source": [
    "person.values()"
   ]
  },
  {
   "cell_type": "code",
   "execution_count": 274,
   "id": "d95ee52b-9cb2-4c32-a045-d942b5919a06",
   "metadata": {},
   "outputs": [
    {
     "data": {
      "text/plain": [
       "dict_items([('name', 'Alice'), ('age', 25), ('location', 'NYC')])"
      ]
     },
     "execution_count": 274,
     "metadata": {},
     "output_type": "execute_result"
    }
   ],
   "source": [
    "person.items()"
   ]
  },
  {
   "cell_type": "code",
   "execution_count": 278,
   "id": "837342f6-532e-4027-b1ce-52873bae2caa",
   "metadata": {},
   "outputs": [
    {
     "data": {
      "text/plain": [
       "'Alice'"
      ]
     },
     "execution_count": 278,
     "metadata": {},
     "output_type": "execute_result"
    }
   ],
   "source": [
    "person.get(\"name\")"
   ]
  },
  {
   "cell_type": "code",
   "execution_count": 288,
   "id": "671edc27-4ee0-44b7-a729-ae401a00c8ee",
   "metadata": {},
   "outputs": [
    {
     "data": {
      "text/plain": [
       "'Alice'"
      ]
     },
     "execution_count": 288,
     "metadata": {},
     "output_type": "execute_result"
    }
   ],
   "source": [
    "person.pop(\"name\")"
   ]
  },
  {
   "cell_type": "code",
   "execution_count": 300,
   "id": "e56895a9-b695-41e7-929e-bcca412fff1b",
   "metadata": {},
   "outputs": [],
   "source": [
    "person.update({'name':'sai'})"
   ]
  },
  {
   "cell_type": "code",
   "execution_count": 304,
   "id": "fa41c8ba-7c7e-4ad2-aff5-4db415b7d8f0",
   "metadata": {},
   "outputs": [],
   "source": [
    "person.update({'sal':'2000000'})"
   ]
  },
  {
   "cell_type": "code",
   "execution_count": 306,
   "id": "67560b0f-abf4-4fff-bfdb-60aedda117ae",
   "metadata": {},
   "outputs": [
    {
     "data": {
      "text/plain": [
       "{'name': 'sai', 'age': 25, 'location': 'NYC', 'sal': '2000000'}"
      ]
     },
     "execution_count": 306,
     "metadata": {},
     "output_type": "execute_result"
    }
   ],
   "source": [
    "person"
   ]
  },
  {
   "cell_type": "code",
   "execution_count": 314,
   "id": "c5ac0332-520e-478d-8fa2-3c29b51cf663",
   "metadata": {},
   "outputs": [
    {
     "data": {
      "text/plain": [
       "'Not Available'"
      ]
     },
     "execution_count": 314,
     "metadata": {},
     "output_type": "execute_result"
    }
   ],
   "source": [
    "#setdefault if key not exists print given data\n",
    "person.setdefault('phone',\"Not Available\")\n",
    "person.get(\"phone\")"
   ]
  },
  {
   "cell_type": "code",
   "execution_count": 316,
   "id": "dd4d1af7-c263-4bb1-8be9-69ad333bad5b",
   "metadata": {},
   "outputs": [],
   "source": [
    "#pbstm\n",
    "#@1 freq of word"
   ]
  },
  {
   "cell_type": "code",
   "execution_count": 322,
   "id": "80477dc5-f9d8-4eaa-b25d-f756b9fc728e",
   "metadata": {},
   "outputs": [
    {
     "data": {
      "text/plain": [
       "{'apple': 2, 'banana': 3, 'orange': 1}"
      ]
     },
     "execution_count": 322,
     "metadata": {},
     "output_type": "execute_result"
    }
   ],
   "source": [
    "words = [\"apple\", \"banana\", \"apple\", \"orange\", \"banana\", \"banana\"]\n",
    "d={}\n",
    "for i in words:\n",
    "    if i in d:\n",
    "        d[i]+=1\n",
    "    else:\n",
    "        d[i]=1\n",
    "d        "
   ]
  },
  {
   "cell_type": "code",
   "execution_count": 326,
   "id": "68da4947-8936-47c8-bcd8-85966749c7da",
   "metadata": {},
   "outputs": [
    {
     "data": {
      "text/plain": [
       "{'a': 10, 'b': 50, 'c': 40}"
      ]
     },
     "execution_count": 326,
     "metadata": {},
     "output_type": "execute_result"
    }
   ],
   "source": [
    "#merging both dict\n",
    "d1 = {'a': 10, 'b': 20}\n",
    "d2 = {'b': 30, 'c': 40}\n",
    "for i,j in d2.items():\n",
    "    d1[i]=d1.get(i,0)+j\n",
    "d1    "
   ]
  },
  {
   "cell_type": "code",
   "execution_count": 330,
   "id": "4fa1c0f0-eec2-43e2-af3c-4539430300a3",
   "metadata": {},
   "outputs": [
    {
     "name": "stdout",
     "output_type": "stream",
     "text": [
      "Value 1 is duplicated for keys: ['a', 'c']\n",
      "Value 2 is duplicated for keys: ['b', 'd']\n"
     ]
    },
    {
     "data": {
      "text/plain": [
       "defaultdict(list, {1: ['a', 'c'], 2: ['b', 'd']})"
      ]
     },
     "execution_count": 330,
     "metadata": {},
     "output_type": "execute_result"
    }
   ],
   "source": [
    "d = {'a': 1, 'b': 2, 'c': 1, 'd': 2}\n",
    "from collections import defaultdict\n",
    "rev = defaultdict(list)\n",
    "for k, v in d.items():\n",
    "    rev[v].append(k)\n",
    "for val, keys in rev.items():\n",
    "    if len(keys) > 1:\n",
    "        print(f\"Value {val} is duplicated for keys: {keys}\")\n",
    "rev        \n"
   ]
  },
  {
   "cell_type": "code",
   "execution_count": 344,
   "id": "98e4e7b8-3da5-4f76-a2ff-5a609746b86d",
   "metadata": {},
   "outputs": [],
   "source": [
    "# STRINGS"
   ]
  },
  {
   "cell_type": "code",
   "execution_count": 370,
   "id": "c7fbbe0f-b542-4a86-a3f2-ee379ec4bcc4",
   "metadata": {},
   "outputs": [
    {
     "data": {
      "text/plain": [
       "'HELLO WORLD '"
      ]
     },
     "execution_count": 370,
     "metadata": {},
     "output_type": "execute_result"
    }
   ],
   "source": [
    "txt=\"Hello World \"\n",
    "txt.upper()"
   ]
  },
  {
   "cell_type": "code",
   "execution_count": 362,
   "id": "328f7cef-c00a-4414-8953-4229b16c685c",
   "metadata": {},
   "outputs": [
    {
     "data": {
      "text/plain": [
       "['Hello', 'World']"
      ]
     },
     "execution_count": 362,
     "metadata": {},
     "output_type": "execute_result"
    }
   ],
   "source": [
    "txt.split()"
   ]
  },
  {
   "cell_type": "code",
   "execution_count": 358,
   "id": "38ca015f-1f52-4f3c-b919-681e29cf4c75",
   "metadata": {},
   "outputs": [
    {
     "data": {
      "text/plain": [
       "'Hello World'"
      ]
     },
     "execution_count": 358,
     "metadata": {},
     "output_type": "execute_result"
    }
   ],
   "source": [
    "txt.strip(' ')"
   ]
  },
  {
   "cell_type": "code",
   "execution_count": 360,
   "id": "ebbc2830-eaea-42b4-8ff3-0782d124f1c5",
   "metadata": {},
   "outputs": [
    {
     "data": {
      "text/plain": [
       "'Hello Developer'"
      ]
     },
     "execution_count": 360,
     "metadata": {},
     "output_type": "execute_result"
    }
   ],
   "source": [
    "txt.replace(\"World\",\"Developer\")"
   ]
  },
  {
   "cell_type": "code",
   "execution_count": 368,
   "id": "783bb99b-207c-4e4d-9884-4d25189b85bb",
   "metadata": {},
   "outputs": [
    {
     "data": {
      "text/plain": [
       "'Hello World'"
      ]
     },
     "execution_count": 368,
     "metadata": {},
     "output_type": "execute_result"
    }
   ],
   "source": [
    "txt=['Hello', 'World']\n",
    "\" \".join(txt)"
   ]
  },
  {
   "cell_type": "code",
   "execution_count": 372,
   "id": "a05146ed-a865-48c1-8b10-886272cb85d2",
   "metadata": {},
   "outputs": [
    {
     "data": {
      "text/plain": [
       "True"
      ]
     },
     "execution_count": 372,
     "metadata": {},
     "output_type": "execute_result"
    }
   ],
   "source": [
    "txt.startswith(\"Hello\")"
   ]
  },
  {
   "cell_type": "code",
   "execution_count": 374,
   "id": "e93c919c-2784-43dc-9d50-2ce18dbca508",
   "metadata": {},
   "outputs": [
    {
     "data": {
      "text/plain": [
       "'Hello World '"
      ]
     },
     "execution_count": 374,
     "metadata": {},
     "output_type": "execute_result"
    }
   ],
   "source": [
    "txt[::1]"
   ]
  },
  {
   "cell_type": "code",
   "execution_count": 376,
   "id": "6bbd7852-0580-40e4-b574-2ab33ae1fca5",
   "metadata": {},
   "outputs": [
    {
     "data": {
      "text/plain": [
       "'HloWrd'"
      ]
     },
     "execution_count": 376,
     "metadata": {},
     "output_type": "execute_result"
    }
   ],
   "source": [
    "txt[::2]"
   ]
  },
  {
   "cell_type": "code",
   "execution_count": 378,
   "id": "adc8a3a0-d626-4757-b2bf-fa30bf65f24a",
   "metadata": {},
   "outputs": [
    {
     "data": {
      "text/plain": [
       "' dlroW olleH'"
      ]
     },
     "execution_count": 378,
     "metadata": {},
     "output_type": "execute_result"
    }
   ],
   "source": [
    "txt[::-1]"
   ]
  },
  {
   "cell_type": "code",
   "execution_count": 384,
   "id": "f918db12-7465-4695-9dae-2fb9cc696105",
   "metadata": {},
   "outputs": [
    {
     "data": {
      "text/plain": [
       "'ld '"
      ]
     },
     "execution_count": 384,
     "metadata": {},
     "output_type": "execute_result"
    }
   ],
   "source": [
    "txt[-3::]"
   ]
  },
  {
   "cell_type": "code",
   "execution_count": 386,
   "id": "8ab51087-699e-4930-82fa-ddb304a27617",
   "metadata": {},
   "outputs": [
    {
     "data": {
      "text/plain": [
       "'e'"
      ]
     },
     "execution_count": 386,
     "metadata": {},
     "output_type": "execute_result"
    }
   ],
   "source": [
    "txt[1:2:3]\n"
   ]
  },
  {
   "cell_type": "code",
   "execution_count": 390,
   "id": "c6161141-f635-4b74-aad9-2160c866f647",
   "metadata": {},
   "outputs": [
    {
     "data": {
      "text/plain": [
       "' World '"
      ]
     },
     "execution_count": 390,
     "metadata": {},
     "output_type": "execute_result"
    }
   ],
   "source": [
    "txt[5::]"
   ]
  },
  {
   "cell_type": "code",
   "execution_count": 392,
   "id": "4c31c394-e749-4c20-aa85-8b2400c8092b",
   "metadata": {},
   "outputs": [
    {
     "data": {
      "text/plain": [
       "'H'"
      ]
     },
     "execution_count": 392,
     "metadata": {},
     "output_type": "execute_result"
    }
   ],
   "source": [
    "txt[:2:2]"
   ]
  },
  {
   "cell_type": "code",
   "execution_count": 396,
   "id": "51f0dbed-8610-41fb-91c1-74ac807c3016",
   "metadata": {},
   "outputs": [
    {
     "data": {
      "text/plain": [
       "'H'"
      ]
     },
     "execution_count": 396,
     "metadata": {},
     "output_type": "execute_result"
    }
   ],
   "source": [
    "txt[:1:]"
   ]
  },
  {
   "cell_type": "code",
   "execution_count": null,
   "id": "b1720a6e-c896-4e25-a9c9-2573ae0c1bed",
   "metadata": {},
   "outputs": [],
   "source": []
  }
 ],
 "metadata": {
  "kernelspec": {
   "display_name": "Python 3 (ipykernel)",
   "language": "python",
   "name": "python3"
  },
  "language_info": {
   "codemirror_mode": {
    "name": "ipython",
    "version": 3
   },
   "file_extension": ".py",
   "mimetype": "text/x-python",
   "name": "python",
   "nbconvert_exporter": "python",
   "pygments_lexer": "ipython3",
   "version": "3.12.4"
  }
 },
 "nbformat": 4,
 "nbformat_minor": 5
}

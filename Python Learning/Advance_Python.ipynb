{
 "cells": [
  {
   "cell_type": "markdown",
   "id": "b7c5b444-402e-4805-9c39-2143e7f8b408",
   "metadata": {},
   "source": [
    "# Iterators"
   ]
  },
  {
   "cell_type": "markdown",
   "id": "f2ced948-0cec-477d-af1a-ca4e5660d471",
   "metadata": {},
   "source": []
  },
  {
   "cell_type": "markdown",
   "id": "1c6ab12f-05c1-452f-929c-ff0dc9673ad6",
   "metadata": {},
   "source": [
    "l=[1,2,3,4,4]\n",
    "it=iter(l)//\n",
    "print(next(it))\n",
    "print(next(it))"
   ]
  },
  {
   "cell_type": "markdown",
   "id": "47a55c2a-25fd-448b-ab7b-2a8363fffc03",
   "metadata": {},
   "source": [
    "### creating own iterator\n"
   ]
  },
  {
   "cell_type": "code",
   "execution_count": 32,
   "id": "d85b56f6-3c39-440b-8093-d33332696560",
   "metadata": {},
   "outputs": [
    {
     "name": "stdout",
     "output_type": "stream",
     "text": [
      "1\n",
      "2\n",
      "3\n",
      "4\n",
      "5\n",
      "6\n",
      "7\n",
      "8\n",
      "9\n",
      "10\n"
     ]
    }
   ],
   "source": [
    "class iter1:\n",
    "    def __init__(self,):\n",
    "        self.val=1\n",
    "    def __iter__(self):\n",
    "        return self\n",
    "    def __next__(self):\n",
    "        if self.val<=10:\n",
    "            v=self.val\n",
    "            self.val+=1\n",
    "            return v\n",
    "        else:\n",
    "            raise StopIteration\n",
    "obj=iter1()\n",
    "for i in obj:\n",
    "    print(i)\n",
    "\n",
    "         \n",
    "         "
   ]
  },
  {
   "cell_type": "markdown",
   "id": "67974e33-db85-48ba-9c6e-29a08566907c",
   "metadata": {},
   "source": [
    "# iter Tools"
   ]
  },
  {
   "cell_type": "markdown",
   "id": "7272b541-90ae-43dc-be8e-94966cc9b77f",
   "metadata": {},
   "source": [
    "### itertools.count(start=0, step=1)\n"
   ]
  },
  {
   "cell_type": "code",
   "execution_count": 37,
   "id": "c85d5978-2521-43c9-82a1-4c080b262dca",
   "metadata": {},
   "outputs": [],
   "source": [
    "#adv ersion af iter used for complex operations "
   ]
  },
  {
   "cell_type": "code",
   "execution_count": null,
   "id": "ef464414-58ad-4b92-9c73-6d0dd86334f3",
   "metadata": {},
   "outputs": [],
   "source": [
    "from itertools import count\n",
    "for num in count(5, 2):  # Starts at 5, steps by 2\n",
    "    print(num)\n",
    "    if num >20:\n",
    "         break\n",
    "    "
   ]
  },
  {
   "cell_type": "code",
   "execution_count": 48,
   "id": "22af83dc-eee8-4bb1-879f-9b2732fb5b15",
   "metadata": {},
   "outputs": [],
   "source": [
    "### itertools.cycle(iterable)"
   ]
  },
  {
   "cell_type": "code",
   "execution_count": 52,
   "id": "d2e980b4-4468-4eba-9c0d-93ee899ff078",
   "metadata": {},
   "outputs": [
    {
     "name": "stdout",
     "output_type": "stream",
     "text": [
      "a\n",
      "b\n",
      "c\n",
      "a\n",
      "b\n",
      "c\n"
     ]
    }
   ],
   "source": [
    "import itertools as it\n",
    "l=['a','b','c']\n",
    "c=0\n",
    "for i in it.cycle(l):// for repeated cycles\n",
    "    print(i)\n",
    "    c+=1\n",
    "    if c==6:\n",
    "        break"
   ]
  },
  {
   "cell_type": "code",
   "execution_count": 54,
   "id": "5a503cc6-b31f-41bb-9a10-ed4785d49e0e",
   "metadata": {},
   "outputs": [],
   "source": [
    "### itertools.repeat(element, n)\n"
   ]
  },
  {
   "cell_type": "code",
   "execution_count": 58,
   "id": "9fd483ed-fc1b-45fb-a196-16e484c575d1",
   "metadata": {},
   "outputs": [
    {
     "name": "stdout",
     "output_type": "stream",
     "text": [
      "python\n",
      "python\n",
      "python\n"
     ]
    }
   ],
   "source": [
    "for i in it.repeat('python',3):\n",
    "    print(i)"
   ]
  },
  {
   "cell_type": "markdown",
   "id": "f3684f5c-fafa-4a57-9b89-5cdd4360c2f2",
   "metadata": {},
   "source": [
    "#  2. Combinatoric Iterators\n"
   ]
  },
  {
   "cell_type": "code",
   "execution_count": 61,
   "id": "ceee4caf-6fe1-4bed-b4ac-a5714797a87d",
   "metadata": {},
   "outputs": [],
   "source": [
    "###  itertools.product(iter1, iter2)"
   ]
  },
  {
   "cell_type": "code",
   "execution_count": 63,
   "id": "16afdae8-cfaf-417e-bccd-a6a679f2f731",
   "metadata": {},
   "outputs": [
    {
     "name": "stdout",
     "output_type": "stream",
     "text": [
      "(1, 'a')\n",
      "(1, 'b')\n",
      "(2, 'a')\n",
      "(2, 'b')\n"
     ]
    }
   ],
   "source": [
    "for i in it.product([1,2],['a','b']):# gives cartesian product\n",
    "    print(i)"
   ]
  },
  {
   "cell_type": "code",
   "execution_count": 65,
   "id": "5208d002-2d9c-40a4-b69a-208a4008e529",
   "metadata": {},
   "outputs": [],
   "source": [
    "### itertools.permutations(iterable, r)"
   ]
  },
  {
   "cell_type": "code",
   "execution_count": 67,
   "id": "00d760db-919d-47dd-9c8a-170825dadfaa",
   "metadata": {},
   "outputs": [
    {
     "name": "stdout",
     "output_type": "stream",
     "text": [
      "(1, 2)\n",
      "(1, 3)\n",
      "(2, 1)\n",
      "(2, 3)\n",
      "(3, 1)\n",
      "(3, 2)\n"
     ]
    }
   ],
   "source": [
    "for i in it.permutations([1,2,3],2):#gives 2 combinations of 1,2,3\n",
    "    print(i)"
   ]
  },
  {
   "cell_type": "code",
   "execution_count": 69,
   "id": "4c52b41f-ccc9-40af-982c-bebda8c13da5",
   "metadata": {},
   "outputs": [],
   "source": [
    "###  itertools.combinations(iterable, r)"
   ]
  },
  {
   "cell_type": "code",
   "execution_count": 73,
   "id": "c15a47f7-9ddf-4a8b-a479-f88062792078",
   "metadata": {},
   "outputs": [
    {
     "name": "stdout",
     "output_type": "stream",
     "text": [
      "(1, 2)\n",
      "(1, 3)\n",
      "(2, 3)\n"
     ]
    }
   ],
   "source": [
    "for i in it.combinations([1,2,3],2):#give all possible pairs(no repetition),no dupli\n",
    "    print(i)"
   ]
  },
  {
   "cell_type": "code",
   "execution_count": 75,
   "id": "e0cee324-7959-4f85-92ce-c3c7ec9a8039",
   "metadata": {},
   "outputs": [],
   "source": [
    " # 3. Filtering Iterators"
   ]
  },
  {
   "cell_type": "code",
   "execution_count": 77,
   "id": "0c79b010-2b94-48e7-8e22-07288a4eeafa",
   "metadata": {},
   "outputs": [],
   "source": [
    "### itertools.compress(data, selectors)"
   ]
  },
  {
   "cell_type": "code",
   "execution_count": 81,
   "id": "9e801a5c-3754-4577-92a2-5348cc74a1e4",
   "metadata": {},
   "outputs": [
    {
     "name": "stdout",
     "output_type": "stream",
     "text": [
      "A\n",
      "C\n"
     ]
    }
   ],
   "source": [
    "boo=[1,0,1,0]\n",
    "l=['A','B','C','D']\n",
    "for i in it.compress(l,boo):#compress value where value at a1 will print\n",
    "    print(i)"
   ]
  },
  {
   "cell_type": "code",
   "execution_count": 83,
   "id": "d59a0032-d139-4dd0-b934-25f4c0238779",
   "metadata": {},
   "outputs": [],
   "source": [
    "# . Combining Iterators\n"
   ]
  },
  {
   "cell_type": "code",
   "execution_count": 85,
   "id": "76e677bc-703e-45eb-a329-1a6bfe823520",
   "metadata": {},
   "outputs": [],
   "source": [
    "### itertools.chain(iter1, iter2, ...)"
   ]
  },
  {
   "cell_type": "code",
   "execution_count": 93,
   "id": "e74f7ca2-7c62-4c6e-8f26-9970977e8a34",
   "metadata": {},
   "outputs": [
    {
     "name": "stdout",
     "output_type": "stream",
     "text": [
      "[1, 2, 3, 4, 6, 7, 8]\n"
     ]
    }
   ],
   "source": [
    "l1=[1,2,3,4]\n",
    "l2=[6,7,8]\n",
    "result=list(it.chain(l1,l2))#combine both lists\n",
    "print(result)"
   ]
  },
  {
   "cell_type": "code",
   "execution_count": 95,
   "id": "cf474305-dc51-431a-a09c-1bdc656eb897",
   "metadata": {},
   "outputs": [],
   "source": [
    "### itertools.zip_longest(iter1, iter2, fillvalue=None)"
   ]
  },
  {
   "cell_type": "code",
   "execution_count": 99,
   "id": "c7973601-390e-42a8-b8a3-42b1a3d4ae22",
   "metadata": {},
   "outputs": [
    {
     "name": "stdout",
     "output_type": "stream",
     "text": [
      "[(1, 'A'), (2, 'B'), (3, '-')]\n"
     ]
    }
   ],
   "source": [
    "l1=[1,2,3]\n",
    "a1=['A','B']\n",
    "result=list(it.zip_longest(l1,a1,fillvalue='-'))#zip both values if it null then replace'_'\n",
    "print(result)"
   ]
  },
  {
   "cell_type": "code",
   "execution_count": 101,
   "id": "96fd3338-2215-4c40-8c2e-7799e7fa7ffc",
   "metadata": {},
   "outputs": [],
   "source": [
    "# PROBLEM STMs\n"
   ]
  },
  {
   "cell_type": "code",
   "execution_count": 161,
   "id": "871ad02a-c745-44d9-80a5-708caa75cd12",
   "metadata": {},
   "outputs": [],
   "source": [
    "#Finding Reapeated Patterns\n",
    "s=\"ababc\" #like this then true \n",
    "for i in range(1,len(s)//2+1):\n",
    "    pattern=s[:i]#a,ab,abc\n",
    "    result=''.join(it.islice(it.cycle(pattern),len(s)))#repate cycle of each like a ,ab ,abc the slice first len(s)\n",
    "    if result==s:\n",
    "        print(\"true\") \n",
    "        break"
   ]
  },
  {
   "cell_type": "code",
   "execution_count": null,
   "id": "0d9cedc7-9740-40d5-9c32-31c9aef8048e",
   "metadata": {},
   "outputs": [],
   "source": [
    "#LOTTERY NUMBER GENERATOR\n",
    "def lottery():\n",
    "    "
   ]
  },
  {
   "cell_type": "code",
   "execution_count": null,
   "id": "4b3756b0-46a2-4301-b7b7-76b912d2bf3e",
   "metadata": {},
   "outputs": [],
   "source": [
    "l1=list(it.combinations(range(1,50),6))\n",
    "for i in l1:\n",
    "    res=''.join(str(j) for j in i)\n",
    "    print(res)\n",
    "    break\n",
    "    \n",
    "    \n",
    "    "
   ]
  },
  {
   "cell_type": "code",
   "execution_count": null,
   "id": "219423d2-48e3-4a31-a556-914c6cb64af4",
   "metadata": {},
   "outputs": [],
   "source": [
    "#Data Masking\n",
    "l1=[\"a\",\"b\",\"c\",\"d\",\"p\",\"p\" \"l\",\"t\",\"e\"]\n",
    "l2=[1,0,0,0,1,1,0,1]\n",
    "for i in it.compress(l1,l2):\n",
    "    print(i)"
   ]
  },
  {
   "cell_type": "code",
   "execution_count": null,
   "id": "47b70be9-ed98-48c8-b32c-a7168cc2c998",
   "metadata": {},
   "outputs": [],
   "source": [
    "import itertools as it\n",
    "#all comb of dice\n",
    "c=0\n",
    "l1=[1,2,3,4,5,6]\n",
    "for i in it.product(l1, repeat=2):\n",
    "    print(i)\n",
    "    c+=1\n",
    "print(c)    \n",
    "    "
   ]
  },
  {
   "cell_type": "markdown",
   "id": "04ca07cb-5cb2-411e-b0d8-63064b4e6c04",
   "metadata": {},
   "source": [
    "#  BYTES AND BYTE ARRAY\n"
   ]
  },
  {
   "cell_type": "code",
   "execution_count": 199,
   "id": "1b06de3d-3476-47c3-99b4-8fa50cc63566",
   "metadata": {},
   "outputs": [],
   "source": [
    "#you want to change bytes of thr data so use byteArray"
   ]
  },
  {
   "cell_type": "code",
   "execution_count": 215,
   "id": "b29f3e22-593f-46e0-9249-68a6de404d42",
   "metadata": {},
   "outputs": [
    {
     "name": "stdout",
     "output_type": "stream",
     "text": [
      "7\n"
     ]
    }
   ],
   "source": [
    "with open(\"test.txt\",\"wb\") as file:\n",
    "    data=file.write(b\" Edited\")\n",
    "print(data)    \n",
    "          "
   ]
  },
  {
   "cell_type": "code",
   "execution_count": 225,
   "id": "338371f2-2f11-4c20-a640-f20820a93d27",
   "metadata": {},
   "outputs": [
    {
     "ename": "TypeError",
     "evalue": "'bytes' object does not support item assignment",
     "output_type": "error",
     "traceback": [
      "\u001b[1;31m---------------------------------------------------------------------------\u001b[0m",
      "\u001b[1;31mTypeError\u001b[0m                                 Traceback (most recent call last)",
      "Cell \u001b[1;32mIn[225], line 3\u001b[0m\n\u001b[0;32m      1\u001b[0m \u001b[38;5;28;01mwith\u001b[39;00m \u001b[38;5;28mopen\u001b[39m(\u001b[38;5;124m\"\u001b[39m\u001b[38;5;124mtest.txt\u001b[39m\u001b[38;5;124m\"\u001b[39m,\u001b[38;5;124m\"\u001b[39m\u001b[38;5;124mrb\u001b[39m\u001b[38;5;124m\"\u001b[39m) \u001b[38;5;28;01mas\u001b[39;00m file:\n\u001b[0;32m      2\u001b[0m     data\u001b[38;5;241m=\u001b[39mfile\u001b[38;5;241m.\u001b[39mread()\n\u001b[1;32m----> 3\u001b[0m data[\u001b[38;5;241m3\u001b[39m]\u001b[38;5;241m=\u001b[39m\u001b[38;5;241m67\u001b[39m\n",
      "\u001b[1;31mTypeError\u001b[0m: 'bytes' object does not support item assignment"
     ]
    }
   ],
   "source": [
    "with open(\"test.txt\",\"rb\") as file:\n",
    "    data=file.read()\n",
    "data[3]=67#so we can change it bytes"
   ]
  },
  {
   "cell_type": "code",
   "execution_count": 231,
   "id": "62b9e14a-cacb-4d24-9312-f274ab670d41",
   "metadata": {},
   "outputs": [
    {
     "name": "stdout",
     "output_type": "stream",
     "text": [
      "bytearray(b'NEdited')\n"
     ]
    }
   ],
   "source": [
    "#so to over come that we are using byte array\n",
    "with open(\"test.txt\",\"rb\") as file:\n",
    "    data=file.read()\n",
    "d=bytearray(data)\n",
    "d[0]=78# we are able to change byte object\n",
    "print(d)"
   ]
  },
  {
   "cell_type": "code",
   "execution_count": null,
   "id": "854820ff-6901-4200-9cca-927ab58141b4",
   "metadata": {},
   "outputs": [],
   "source": []
  }
 ],
 "metadata": {
  "kernelspec": {
   "display_name": "Python 3 (ipykernel)",
   "language": "python",
   "name": "python3"
  },
  "language_info": {
   "codemirror_mode": {
    "name": "ipython",
    "version": 3
   },
   "file_extension": ".py",
   "mimetype": "text/x-python",
   "name": "python",
   "nbconvert_exporter": "python",
   "pygments_lexer": "ipython3",
   "version": "3.12.4"
  }
 },
 "nbformat": 4,
 "nbformat_minor": 5
}

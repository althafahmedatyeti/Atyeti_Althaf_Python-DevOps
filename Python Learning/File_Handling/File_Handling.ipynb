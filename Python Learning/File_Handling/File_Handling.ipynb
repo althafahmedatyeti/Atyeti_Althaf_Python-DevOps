{
 "cells": [
  {
   "cell_type": "code",
   "execution_count": 27,
   "id": "71a8c421-05c0-424e-ab66-5808b4d0d950",
   "metadata": {},
   "outputs": [],
   "source": [
    "#READING FILR\n",
    "with open(\"test.txt\",\"r\") as file:\n",
    "    data=file.read()"
   ]
  },
  {
   "cell_type": "code",
   "execution_count": 29,
   "id": "a26254c0-4eb1-4b6b-979d-7bc294bde59b",
   "metadata": {},
   "outputs": [
    {
     "data": {
      "text/plain": [
       "'DATA HACKED'"
      ]
     },
     "execution_count": 29,
     "metadata": {},
     "output_type": "execute_result"
    }
   ],
   "source": [
    "data"
   ]
  },
  {
   "cell_type": "code",
   "execution_count": 43,
   "id": "ecc0bee9-4117-4704-8fc9-ad2da5a9632a",
   "metadata": {},
   "outputs": [],
   "source": [
    "#Writing\n",
    "with open(\"test.txt\", 'w') as file1:\n",
    "    d=file1.write(\"Chegg the popular US-based online education platform, is letting go of  employees aroun\")"
   ]
  },
  {
   "cell_type": "code",
   "execution_count": 25,
   "id": "d221cb35-f948-483e-9046-f1366a22b073",
   "metadata": {},
   "outputs": [
    {
     "data": {
      "text/plain": [
       "11"
      ]
     },
     "execution_count": 25,
     "metadata": {},
     "output_type": "execute_result"
    }
   ],
   "source": [
    "d"
   ]
  },
  {
   "cell_type": "code",
   "execution_count": 47,
   "id": "6b783d26-a44f-437a-b14b-e2c7be5bfa61",
   "metadata": {},
   "outputs": [],
   "source": [
    "#read lines in list\n",
    "with open(\"test.txt\", 'r') as file1:\n",
    "    d=file1.readlines()\n"
   ]
  },
  {
   "cell_type": "code",
   "execution_count": 49,
   "id": "c287cd2e-70cc-45c2-9be5-3db19bdf8a87",
   "metadata": {},
   "outputs": [
    {
     "data": {
      "text/plain": [
       "['Chegg the popular US-based online education platform, is letting go of  employees aroun']"
      ]
     },
     "execution_count": 49,
     "metadata": {},
     "output_type": "execute_result"
    }
   ],
   "source": [
    "d"
   ]
  },
  {
   "cell_type": "code",
   "execution_count": 215,
   "id": "c7be5c48-eb37-42c1-b84f-229312fb50b8",
   "metadata": {},
   "outputs": [],
   "source": [
    "#reading data from one file \n",
    "import logging\n",
    "logging.basicConfig(\n",
    "    filename=\"log.log\",\n",
    "    format=\"%(asctime)s-%(levelname)s-%(message)s\",\n",
    "    level=logging.DEBUG,\n",
    "    filemode='w' \n",
    "    )\n",
    "with open(\"test.txt\",\"r\") as file1: #source\n",
    "    data1=file1.read()\n",
    "    logging.info(\"reading 'test.txt', file\")"
   ]
  },
  {
   "cell_type": "code",
   "execution_count": 209,
   "id": "819cf798-fa13-4b01-ad1f-c3ac72f1b7d0",
   "metadata": {},
   "outputs": [],
   "source": [
    "#writing in to another file\n",
    "with open(\"test_case.txt\",\"w\") as file2:#destination\n",
    "    file2.write(data1)\n",
    "    logging.info(\"Sucessufully wrote data to 'test_case.txt',\")"
   ]
  },
  {
   "cell_type": "code",
   "execution_count": 171,
   "id": "18af4ee4-3027-4f3f-85c3-12098ab68c45",
   "metadata": {},
   "outputs": [],
   "source": [
    "with open(\"test_case.txt\",\"r\") as file1:\n",
    "    data3=file1.read()"
   ]
  },
  {
   "cell_type": "code",
   "execution_count": 173,
   "id": "70b7fddb-d8ad-4340-b55f-129b36ec799c",
   "metadata": {},
   "outputs": [
    {
     "data": {
      "text/plain": [
       "'Chegg the popular US-based online education platform, is letting go of  employees aroun'"
      ]
     },
     "execution_count": 173,
     "metadata": {},
     "output_type": "execute_result"
    }
   ],
   "source": [
    "data3"
   ]
  },
  {
   "cell_type": "code",
   "execution_count": 101,
   "id": "8b534466-bc4d-4ce3-a3dd-dba14953f105",
   "metadata": {},
   "outputs": [
    {
     "data": {
      "text/plain": [
       "'Chegg the popular US-based online education platform, is letting go of  employees aroun'"
      ]
     },
     "execution_count": 101,
     "metadata": {},
     "output_type": "execute_result"
    }
   ],
   "source": [
    "data1"
   ]
  },
  {
   "cell_type": "code",
   "execution_count": 175,
   "id": "a4b455d4-45ba-462d-b71c-fbc714654415",
   "metadata": {},
   "outputs": [],
   "source": [
    "#append\n",
    "#adding ************ at end of file data3\n",
    "\n",
    "with open(\"test_case.txt\",\"a\") as file2:\n",
    "    file2.write(\"***********\")\n"
   ]
  },
  {
   "cell_type": "code",
   "execution_count": 123,
   "id": "75dc3bc5-fe9f-4c17-88c5-e4dd91ed7615",
   "metadata": {},
   "outputs": [
    {
     "data": {
      "text/plain": [
       "'Chegg the popular US-based online education platform, is letting go of  employees aroun***********'"
      ]
     },
     "execution_count": 123,
     "metadata": {},
     "output_type": "execute_result"
    }
   ],
   "source": [
    "data3"
   ]
  },
  {
   "cell_type": "code",
   "execution_count": 129,
   "id": "f268f88e-3eaa-4cf0-bafa-9e2aa184c9bc",
   "metadata": {},
   "outputs": [],
   "source": [
    "os modules\n",
    "import os\n",
    "print(os.getcwd())              # Current working dir\n",
    "os.mkdir(\"new_folder\")          # Create folder\n",
    "os.rename(\"old.txt\", \"new.txt\") # Rename\n",
    "os.remove(\"file.txt\")           # Delete file"
   ]
  },
  {
   "cell_type": "code",
   "execution_count": null,
   "id": "235556a7-b139-433b-ac18-9e2573b5ad09",
   "metadata": {},
   "outputs": [],
   "source": []
  },
  {
   "cell_type": "code",
   "execution_count": 131,
   "id": "6b13f9c0-a8c4-4e62-8b6d-ace70147020a",
   "metadata": {},
   "outputs": [],
   "source": [
    "import shutil\n",
    "\n",
    "shutil.copy(\"source.txt\", \"backup.txt\")     # Copy file\n",
    "shutil.move(\"file.txt\", \"new_folder/\")      # Move file\n",
    "shutil.rmtree(\"folder_to_delete\")           # Delete folder with files"
   ]
  },
  {
   "cell_type": "code",
   "execution_count": 133,
   "id": "3850c815-c089-4dc7-a21b-5652d5954d86",
   "metadata": {},
   "outputs": [
    {
     "data": {
      "text/plain": [
       "'test_case'"
      ]
     },
     "execution_count": 133,
     "metadata": {},
     "output_type": "execute_result"
    }
   ],
   "source": [
    "shutil.copy(\"test.txt\",\"test_case\")"
   ]
  },
  {
   "cell_type": "code",
   "execution_count": 205,
   "id": "2f59d85d-c7a3-400c-8abd-6b468d20e94e",
   "metadata": {},
   "outputs": [],
   "source": [
    "with open(\"new_log.txt\") as log_file:\n",
    "    reading_log=log_file.read()"
   ]
  },
  {
   "cell_type": "code",
   "execution_count": 211,
   "id": "7c4263e2-343a-4cea-a5dd-f01591292537",
   "metadata": {},
   "outputs": [
    {
     "data": {
      "text/plain": [
       "'2025-05-14 15:10:52,493-INFO\\n2025-05-14 15:12:44,756-INFO\\n2025-05-14 15:14:27,189-INFO\\n2025-05-14 15:14:49,966-INFO\\n2025-05-14 15:15:49,959-INFO\\n2025-05-14 15:17:29,942-INFO\\n2025-05-14 15:17:32,162-INFO\\n2025-05-14 15:18:00,699-INFO\\n2025-05-14 15:18:03,367-INFO\\n2025-05-14 15:18:07,222-INFO\\n2025-05-14 15:20:19,135-INFO\\n2025-05-14 15:20:22,303-INFO\\n2025-05-14 15:21:11,981-INFO\\n'"
      ]
     },
     "execution_count": 211,
     "metadata": {},
     "output_type": "execute_result"
    }
   ],
   "source": [
    "reading_log"
   ]
  },
  {
   "cell_type": "code",
   "execution_count": null,
   "id": "cbc3b77e-1a8c-443d-b2ba-068bb16f3bfb",
   "metadata": {},
   "outputs": [],
   "source": []
  }
 ],
 "metadata": {
  "kernelspec": {
   "display_name": "Python 3 (ipykernel)",
   "language": "python",
   "name": "python3"
  },
  "language_info": {
   "codemirror_mode": {
    "name": "ipython",
    "version": 3
   },
   "file_extension": ".py",
   "mimetype": "text/x-python",
   "name": "python",
   "nbconvert_exporter": "python",
   "pygments_lexer": "ipython3",
   "version": "3.12.4"
  }
 },
 "nbformat": 4,
 "nbformat_minor": 5
}
